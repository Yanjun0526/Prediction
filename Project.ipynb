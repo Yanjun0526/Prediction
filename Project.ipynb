{
 "cells": [
  {
   "cell_type": "code",
   "execution_count": 1,
   "id": "218b6570-77df-4a59-8e09-d707e58dd878",
   "metadata": {
    "scrolled": true
   },
   "outputs": [
    {
     "name": "stderr",
     "output_type": "stream",
     "text": [
      "Warning message:\n",
      "“package ‘dplyr’ was built under R version 4.3.2”\n",
      "Warning message:\n",
      "“package ‘stringr’ was built under R version 4.3.2”\n",
      "── \u001b[1mAttaching core tidyverse packages\u001b[22m ──────────────────────── tidyverse 2.0.0 ──\n",
      "\u001b[32m✔\u001b[39m \u001b[34mdplyr    \u001b[39m 1.1.4     \u001b[32m✔\u001b[39m \u001b[34mreadr    \u001b[39m 2.1.4\n",
      "\u001b[32m✔\u001b[39m \u001b[34mforcats  \u001b[39m 1.0.0     \u001b[32m✔\u001b[39m \u001b[34mstringr  \u001b[39m 1.5.1\n",
      "\u001b[32m✔\u001b[39m \u001b[34mggplot2  \u001b[39m 3.4.4     \u001b[32m✔\u001b[39m \u001b[34mtibble   \u001b[39m 3.2.1\n",
      "\u001b[32m✔\u001b[39m \u001b[34mlubridate\u001b[39m 1.9.3     \u001b[32m✔\u001b[39m \u001b[34mtidyr    \u001b[39m 1.3.0\n",
      "\u001b[32m✔\u001b[39m \u001b[34mpurrr    \u001b[39m 1.0.2     \n",
      "── \u001b[1mConflicts\u001b[22m ────────────────────────────────────────── tidyverse_conflicts() ──\n",
      "\u001b[31m✖\u001b[39m \u001b[34mdplyr\u001b[39m::\u001b[32mfilter()\u001b[39m masks \u001b[34mstats\u001b[39m::filter()\n",
      "\u001b[31m✖\u001b[39m \u001b[34mdplyr\u001b[39m::\u001b[32mlag()\u001b[39m    masks \u001b[34mstats\u001b[39m::lag()\n",
      "\u001b[36mℹ\u001b[39m Use the conflicted package (\u001b[3m\u001b[34m<http://conflicted.r-lib.org/>\u001b[39m\u001b[23m) to force all conflicts to become errors\n",
      "Warning message:\n",
      "“package ‘GGally’ was built under R version 4.3.2”\n",
      "Registered S3 method overwritten by 'GGally':\n",
      "  method from   \n",
      "  +.gg   ggplot2\n",
      "\n"
     ]
    },
    {
     "data": {
      "text/html": [
       "'/home/jupyter/Prediction'"
      ],
      "text/latex": [
       "'/home/jupyter/Prediction'"
      ],
      "text/markdown": [
       "'/home/jupyter/Prediction'"
      ],
      "text/plain": [
       "[1] \"/home/jupyter/Prediction\""
      ]
     },
     "metadata": {},
     "output_type": "display_data"
    }
   ],
   "source": [
    "library(tidyverse)\n",
    "library(dplyr)\n",
    "library(GGally)\n",
    "library(readr)\n",
    "getwd()"
   ]
  },
  {
   "cell_type": "markdown",
   "id": "bde78193-7ba1-4177-8cef-6d233d9fba3a",
   "metadata": {},
   "source": [
    "### Intro"
   ]
  },
  {
   "cell_type": "markdown",
   "id": "519c2d4b-b54e-45e7-b13b-02070c2a5c16",
   "metadata": {
    "editable": true,
    "slideshow": {
     "slide_type": ""
    },
    "tags": []
   },
   "source": [
    "In this project, I will use relevant information of house to predict its price. \n",
    "\n",
    "Link of data: https://www.kaggle.com/competitions/simple-housing-price-prediction/data"
   ]
  },
  {
   "cell_type": "markdown",
   "id": "ca6fba6b-0de7-4e37-8476-57f7db7c28f7",
   "metadata": {},
   "source": [
    "| Variable Name   | Variable Type | Description                                                                                      |\n",
    "|-----------------|---------------|--------------------------------------------------------------------------------------------------|\n",
    "| house_id        | Integer       | ID variable                                                                                      |\n",
    "| date            | Character     | Date of sale                                                                                     |\n",
    "| location        | Character     | Location of house                                                                                |\n",
    "| type            | Character     | Type of house. Options: '1 ROOM', '2 ROOM', '3 ROOM', '4 ROOM', '5 ROOM', 'EXECUTIVE', 'MULTI-GENERATION'                     |\n",
    "| block           | Character     | The block that the house resides on                                                              |\n",
    "| street          | Character     | The street that the house resides on                                                             |\n",
    "| storey_range    | Character     | Which stories are occupied by the house                                                          |\n",
    "| area_sqm        | Double        | Area       |\n",
    "| flat_model      | Character     | Model of the flat, different letters represent different layouts, room architecture, etc.       |\n",
    "| commence_date   | Integer       | When the house was put up for sale                                                               |\n",
    "| price           | Double        | Target variable, indicates the price the house was sold for|"
   ]
  },
  {
   "cell_type": "markdown",
   "id": "7e1f375b-8e32-45a7-af2c-9db735eebdcb",
   "metadata": {},
   "source": [
    "Through the EDA, I can visually examine the relationships between these variables. Subsequently, the dataset can be applied Additive Multiple Linear Regression (MLR) model to estimate coefficients with considering potential confounding factors. This study will focus on prediction, therefore, I may use an automated procedure such as backward selection to find variables that create the best model to make predictions."
   ]
  },
  {
   "cell_type": "markdown",
   "id": "6b46acfb-eada-4e27-8332-b4ecbc97a8a6",
   "metadata": {},
   "source": [
    "### EDA"
   ]
  },
  {
   "cell_type": "code",
   "execution_count": 2,
   "id": "1c47d2ba-00fc-473d-96ef-53947bdca51a",
   "metadata": {},
   "outputs": [
    {
     "data": {
      "text/html": [
       "<table class=\"dataframe\">\n",
       "<caption>A data.frame: 6 × 11</caption>\n",
       "<thead>\n",
       "\t<tr><th></th><th scope=col>house_id</th><th scope=col>date</th><th scope=col>location</th><th scope=col>type</th><th scope=col>block</th><th scope=col>street</th><th scope=col>storey_range</th><th scope=col>area_sqm</th><th scope=col>flat_model</th><th scope=col>commence_date</th><th scope=col>price</th></tr>\n",
       "\t<tr><th></th><th scope=col>&lt;int&gt;</th><th scope=col>&lt;chr&gt;</th><th scope=col>&lt;chr&gt;</th><th scope=col>&lt;chr&gt;</th><th scope=col>&lt;chr&gt;</th><th scope=col>&lt;chr&gt;</th><th scope=col>&lt;chr&gt;</th><th scope=col>&lt;dbl&gt;</th><th scope=col>&lt;chr&gt;</th><th scope=col>&lt;int&gt;</th><th scope=col>&lt;dbl&gt;</th></tr>\n",
       "</thead>\n",
       "<tbody>\n",
       "\t<tr><th scope=row>1</th><td>199577</td><td>2006-09</td><td>Raleigh  </td><td>5 ROOM</td><td>107D</td><td>Agawan Court       </td><td>07 TO 09</td><td>110</td><td>D</td><td>2003</td><td>313000</td></tr>\n",
       "\t<tr><th scope=row>2</th><td>217021</td><td>2007-06</td><td>Fresno   </td><td>3 ROOM</td><td>678 </td><td>Cleo St            </td><td>07 TO 09</td><td> 64</td><td>N</td><td>1988</td><td>167000</td></tr>\n",
       "\t<tr><th scope=row>3</th><td>308062</td><td>2010-09</td><td>Tucson   </td><td>4 ROOM</td><td>5   </td><td>E Pleasant View Way</td><td>10 TO 12</td><td> 92</td><td>K</td><td>1976</td><td>430000</td></tr>\n",
       "\t<tr><th scope=row>4</th><td>212465</td><td>2007-04</td><td>Austin   </td><td>4 ROOM</td><td>326 </td><td>Park Hollow Ln     </td><td>10 TO 12</td><td> 92</td><td>K</td><td>1977</td><td>303800</td></tr>\n",
       "\t<tr><th scope=row>5</th><td> 60654</td><td>2001-10</td><td>Honolulu </td><td>4 ROOM</td><td>794 </td><td>Ala Puawa Place    </td><td>04 TO 06</td><td>102</td><td>G</td><td>1998</td><td>212000</td></tr>\n",
       "\t<tr><th scope=row>6</th><td>193658</td><td>2006-06</td><td>Riverside</td><td>4 ROOM</td><td>296 </td><td>Jay Ct             </td><td>07 TO 09</td><td> 90</td><td>G</td><td>2000</td><td>248000</td></tr>\n",
       "</tbody>\n",
       "</table>\n"
      ],
      "text/latex": [
       "A data.frame: 6 × 11\n",
       "\\begin{tabular}{r|lllllllllll}\n",
       "  & house\\_id & date & location & type & block & street & storey\\_range & area\\_sqm & flat\\_model & commence\\_date & price\\\\\n",
       "  & <int> & <chr> & <chr> & <chr> & <chr> & <chr> & <chr> & <dbl> & <chr> & <int> & <dbl>\\\\\n",
       "\\hline\n",
       "\t1 & 199577 & 2006-09 & Raleigh   & 5 ROOM & 107D & Agawan Court        & 07 TO 09 & 110 & D & 2003 & 313000\\\\\n",
       "\t2 & 217021 & 2007-06 & Fresno    & 3 ROOM & 678  & Cleo St             & 07 TO 09 &  64 & N & 1988 & 167000\\\\\n",
       "\t3 & 308062 & 2010-09 & Tucson    & 4 ROOM & 5    & E Pleasant View Way & 10 TO 12 &  92 & K & 1976 & 430000\\\\\n",
       "\t4 & 212465 & 2007-04 & Austin    & 4 ROOM & 326  & Park Hollow Ln      & 10 TO 12 &  92 & K & 1977 & 303800\\\\\n",
       "\t5 &  60654 & 2001-10 & Honolulu  & 4 ROOM & 794  & Ala Puawa Place     & 04 TO 06 & 102 & G & 1998 & 212000\\\\\n",
       "\t6 & 193658 & 2006-06 & Riverside & 4 ROOM & 296  & Jay Ct              & 07 TO 09 &  90 & G & 2000 & 248000\\\\\n",
       "\\end{tabular}\n"
      ],
      "text/markdown": [
       "\n",
       "A data.frame: 6 × 11\n",
       "\n",
       "| <!--/--> | house_id &lt;int&gt; | date &lt;chr&gt; | location &lt;chr&gt; | type &lt;chr&gt; | block &lt;chr&gt; | street &lt;chr&gt; | storey_range &lt;chr&gt; | area_sqm &lt;dbl&gt; | flat_model &lt;chr&gt; | commence_date &lt;int&gt; | price &lt;dbl&gt; |\n",
       "|---|---|---|---|---|---|---|---|---|---|---|---|\n",
       "| 1 | 199577 | 2006-09 | Raleigh   | 5 ROOM | 107D | Agawan Court        | 07 TO 09 | 110 | D | 2003 | 313000 |\n",
       "| 2 | 217021 | 2007-06 | Fresno    | 3 ROOM | 678  | Cleo St             | 07 TO 09 |  64 | N | 1988 | 167000 |\n",
       "| 3 | 308062 | 2010-09 | Tucson    | 4 ROOM | 5    | E Pleasant View Way | 10 TO 12 |  92 | K | 1976 | 430000 |\n",
       "| 4 | 212465 | 2007-04 | Austin    | 4 ROOM | 326  | Park Hollow Ln      | 10 TO 12 |  92 | K | 1977 | 303800 |\n",
       "| 5 |  60654 | 2001-10 | Honolulu  | 4 ROOM | 794  | Ala Puawa Place     | 04 TO 06 | 102 | G | 1998 | 212000 |\n",
       "| 6 | 193658 | 2006-06 | Riverside | 4 ROOM | 296  | Jay Ct              | 07 TO 09 |  90 | G | 2000 | 248000 |\n",
       "\n"
      ],
      "text/plain": [
       "  house_id date    location  type   block street              storey_range\n",
       "1 199577   2006-09 Raleigh   5 ROOM 107D  Agawan Court        07 TO 09    \n",
       "2 217021   2007-06 Fresno    3 ROOM 678   Cleo St             07 TO 09    \n",
       "3 308062   2010-09 Tucson    4 ROOM 5     E Pleasant View Way 10 TO 12    \n",
       "4 212465   2007-04 Austin    4 ROOM 326   Park Hollow Ln      10 TO 12    \n",
       "5  60654   2001-10 Honolulu  4 ROOM 794   Ala Puawa Place     04 TO 06    \n",
       "6 193658   2006-06 Riverside 4 ROOM 296   Jay Ct              07 TO 09    \n",
       "  area_sqm flat_model commence_date price \n",
       "1 110      D          2003          313000\n",
       "2  64      N          1988          167000\n",
       "3  92      K          1976          430000\n",
       "4  92      K          1977          303800\n",
       "5 102      G          1998          212000\n",
       "6  90      G          2000          248000"
      ]
     },
     "metadata": {},
     "output_type": "display_data"
    }
   ],
   "source": [
    "dat <- read.csv(\"train.csv\")\n",
    "head(dat)"
   ]
  },
  {
   "cell_type": "markdown",
   "id": "e8fd01ca-3078-4c8a-a762-c82b3a8ce9ed",
   "metadata": {},
   "source": [
    "Since the date, type, and storey_range are hard to apply linear regression, I will summarize these variables and transform characters variables to factors."
   ]
  },
  {
   "cell_type": "code",
   "execution_count": 3,
   "id": "8e39c298-2e8a-4d4d-b947-5c9a81d2224d",
   "metadata": {},
   "outputs": [
    {
     "data": {
      "text/html": [
       "<table class=\"dataframe\">\n",
       "<caption>A data.frame: 6 × 11</caption>\n",
       "<thead>\n",
       "\t<tr><th></th><th scope=col>house_id</th><th scope=col>date</th><th scope=col>location</th><th scope=col>type</th><th scope=col>block</th><th scope=col>street</th><th scope=col>storey_range</th><th scope=col>area_sqm</th><th scope=col>flat_model</th><th scope=col>commence_date</th><th scope=col>price</th></tr>\n",
       "\t<tr><th></th><th scope=col>&lt;int&gt;</th><th scope=col>&lt;chr&gt;</th><th scope=col>&lt;chr&gt;</th><th scope=col>&lt;chr&gt;</th><th scope=col>&lt;chr&gt;</th><th scope=col>&lt;chr&gt;</th><th scope=col>&lt;chr&gt;</th><th scope=col>&lt;dbl&gt;</th><th scope=col>&lt;chr&gt;</th><th scope=col>&lt;int&gt;</th><th scope=col>&lt;dbl&gt;</th></tr>\n",
       "</thead>\n",
       "<tbody>\n",
       "\t<tr><th scope=row>1</th><td>199577</td><td>2006</td><td>Raleigh  </td><td>5 </td><td>107D</td><td>Agawan Court       </td><td> 09</td><td>110</td><td>D</td><td>2003</td><td>313000</td></tr>\n",
       "\t<tr><th scope=row>2</th><td>217021</td><td>2007</td><td>Fresno   </td><td>3 </td><td>678 </td><td>Cleo St            </td><td> 09</td><td> 64</td><td>N</td><td>1988</td><td>167000</td></tr>\n",
       "\t<tr><th scope=row>3</th><td>308062</td><td>2010</td><td>Tucson   </td><td>4 </td><td>5   </td><td>E Pleasant View Way</td><td> 12</td><td> 92</td><td>K</td><td>1976</td><td>430000</td></tr>\n",
       "\t<tr><th scope=row>4</th><td>212465</td><td>2007</td><td>Austin   </td><td>4 </td><td>326 </td><td>Park Hollow Ln     </td><td> 12</td><td> 92</td><td>K</td><td>1977</td><td>303800</td></tr>\n",
       "\t<tr><th scope=row>5</th><td> 60654</td><td>2001</td><td>Honolulu </td><td>4 </td><td>794 </td><td>Ala Puawa Place    </td><td> 06</td><td>102</td><td>G</td><td>1998</td><td>212000</td></tr>\n",
       "\t<tr><th scope=row>6</th><td>193658</td><td>2006</td><td>Riverside</td><td>4 </td><td>296 </td><td>Jay Ct             </td><td> 09</td><td> 90</td><td>G</td><td>2000</td><td>248000</td></tr>\n",
       "</tbody>\n",
       "</table>\n"
      ],
      "text/latex": [
       "A data.frame: 6 × 11\n",
       "\\begin{tabular}{r|lllllllllll}\n",
       "  & house\\_id & date & location & type & block & street & storey\\_range & area\\_sqm & flat\\_model & commence\\_date & price\\\\\n",
       "  & <int> & <chr> & <chr> & <chr> & <chr> & <chr> & <chr> & <dbl> & <chr> & <int> & <dbl>\\\\\n",
       "\\hline\n",
       "\t1 & 199577 & 2006 & Raleigh   & 5  & 107D & Agawan Court        &  09 & 110 & D & 2003 & 313000\\\\\n",
       "\t2 & 217021 & 2007 & Fresno    & 3  & 678  & Cleo St             &  09 &  64 & N & 1988 & 167000\\\\\n",
       "\t3 & 308062 & 2010 & Tucson    & 4  & 5    & E Pleasant View Way &  12 &  92 & K & 1976 & 430000\\\\\n",
       "\t4 & 212465 & 2007 & Austin    & 4  & 326  & Park Hollow Ln      &  12 &  92 & K & 1977 & 303800\\\\\n",
       "\t5 &  60654 & 2001 & Honolulu  & 4  & 794  & Ala Puawa Place     &  06 & 102 & G & 1998 & 212000\\\\\n",
       "\t6 & 193658 & 2006 & Riverside & 4  & 296  & Jay Ct              &  09 &  90 & G & 2000 & 248000\\\\\n",
       "\\end{tabular}\n"
      ],
      "text/markdown": [
       "\n",
       "A data.frame: 6 × 11\n",
       "\n",
       "| <!--/--> | house_id &lt;int&gt; | date &lt;chr&gt; | location &lt;chr&gt; | type &lt;chr&gt; | block &lt;chr&gt; | street &lt;chr&gt; | storey_range &lt;chr&gt; | area_sqm &lt;dbl&gt; | flat_model &lt;chr&gt; | commence_date &lt;int&gt; | price &lt;dbl&gt; |\n",
       "|---|---|---|---|---|---|---|---|---|---|---|---|\n",
       "| 1 | 199577 | 2006 | Raleigh   | 5  | 107D | Agawan Court        |  09 | 110 | D | 2003 | 313000 |\n",
       "| 2 | 217021 | 2007 | Fresno    | 3  | 678  | Cleo St             |  09 |  64 | N | 1988 | 167000 |\n",
       "| 3 | 308062 | 2010 | Tucson    | 4  | 5    | E Pleasant View Way |  12 |  92 | K | 1976 | 430000 |\n",
       "| 4 | 212465 | 2007 | Austin    | 4  | 326  | Park Hollow Ln      |  12 |  92 | K | 1977 | 303800 |\n",
       "| 5 |  60654 | 2001 | Honolulu  | 4  | 794  | Ala Puawa Place     |  06 | 102 | G | 1998 | 212000 |\n",
       "| 6 | 193658 | 2006 | Riverside | 4  | 296  | Jay Ct              |  09 |  90 | G | 2000 | 248000 |\n",
       "\n"
      ],
      "text/plain": [
       "  house_id date location  type block street              storey_range area_sqm\n",
       "1 199577   2006 Raleigh   5    107D  Agawan Court         09          110     \n",
       "2 217021   2007 Fresno    3    678   Cleo St              09           64     \n",
       "3 308062   2010 Tucson    4    5     E Pleasant View Way  12           92     \n",
       "4 212465   2007 Austin    4    326   Park Hollow Ln       12           92     \n",
       "5  60654   2001 Honolulu  4    794   Ala Puawa Place      06          102     \n",
       "6 193658   2006 Riverside 4    296   Jay Ct               09           90     \n",
       "  flat_model commence_date price \n",
       "1 D          2003          313000\n",
       "2 N          1988          167000\n",
       "3 K          1976          430000\n",
       "4 K          1977          303800\n",
       "5 G          1998          212000\n",
       "6 G          2000          248000"
      ]
     },
     "metadata": {},
     "output_type": "display_data"
    },
    {
     "data": {
      "text/html": [
       "<table class=\"dataframe\">\n",
       "<caption>A data.frame: 1 × 7</caption>\n",
       "<thead>\n",
       "\t<tr><th scope=col>date.Namelevel</th><th scope=col>location.Namelevel</th><th scope=col>type.Namelevel</th><th scope=col>block.Namelevel</th><th scope=col>street.Namelevel</th><th scope=col>storey_range.Namelevel</th><th scope=col>flat_model.Namelevel</th></tr>\n",
       "\t<tr><th scope=col>&lt;int&gt;</th><th scope=col>&lt;int&gt;</th><th scope=col>&lt;int&gt;</th><th scope=col>&lt;int&gt;</th><th scope=col>&lt;int&gt;</th><th scope=col>&lt;int&gt;</th><th scope=col>&lt;int&gt;</th></tr>\n",
       "</thead>\n",
       "<tbody>\n",
       "\t<tr><td>13</td><td>26</td><td>7</td><td>1984</td><td>522</td><td>14</td><td>16</td></tr>\n",
       "</tbody>\n",
       "</table>\n"
      ],
      "text/latex": [
       "A data.frame: 1 × 7\n",
       "\\begin{tabular}{lllllll}\n",
       " date.Namelevel & location.Namelevel & type.Namelevel & block.Namelevel & street.Namelevel & storey\\_range.Namelevel & flat\\_model.Namelevel\\\\\n",
       " <int> & <int> & <int> & <int> & <int> & <int> & <int>\\\\\n",
       "\\hline\n",
       "\t 13 & 26 & 7 & 1984 & 522 & 14 & 16\\\\\n",
       "\\end{tabular}\n"
      ],
      "text/markdown": [
       "\n",
       "A data.frame: 1 × 7\n",
       "\n",
       "| date.Namelevel &lt;int&gt; | location.Namelevel &lt;int&gt; | type.Namelevel &lt;int&gt; | block.Namelevel &lt;int&gt; | street.Namelevel &lt;int&gt; | storey_range.Namelevel &lt;int&gt; | flat_model.Namelevel &lt;int&gt; |\n",
       "|---|---|---|---|---|---|---|\n",
       "| 13 | 26 | 7 | 1984 | 522 | 14 | 16 |\n",
       "\n"
      ],
      "text/plain": [
       "  date.Namelevel location.Namelevel type.Namelevel block.Namelevel\n",
       "1 13             26                 7              1984           \n",
       "  street.Namelevel storey_range.Namelevel flat_model.Namelevel\n",
       "1 522              14                     16                  "
      ]
     },
     "metadata": {},
     "output_type": "display_data"
    }
   ],
   "source": [
    "# Summarized and Transformed characters variables to factors\n",
    "dat$date <- substr(dat$date, 1, 4)\n",
    "dat$type <- substr(dat$type, 1, 2)\n",
    "dat$storey_range <- substr(dat$storey_range, 6, 8)\n",
    "\n",
    "head(dat)\n",
    "dat <- select(dat, house_id, date, location, type, block, street, storey_range, area_sqm, flat_model, commence_date, price) |>\n",
    "              mutate(date = as.factor(date),\n",
    "                     location = as.factor(location),\n",
    "                     type = as.factor(type),\n",
    "                     block = as.factor(block),\n",
    "                     street = as.factor(street),\n",
    "                     storey_range = as.factor(storey_range),\n",
    "                     flat_model = as.factor(flat_model))\n",
    "\n",
    "date.Namelevel = nlevels(dat$date)   \n",
    "location.Namelevel = nlevels(dat$location) \n",
    "type.Namelevel = nlevels(dat$type) \n",
    "block.Namelevel = nlevels(dat$block) \n",
    "street.Namelevel = nlevels(dat$street) \n",
    "storey_range.Namelevel = nlevels(dat$storey_range) \n",
    "flat_model.Namelevel = nlevels(dat$flat_model) \n",
    "\n",
    "\n",
    "levels<- data.frame(date.Namelevel, location.Namelevel, type.Namelevel, block.Namelevel, street.Namelevel, storey_range.Namelevel, flat_model.Namelevel)\n",
    "levels\n"
   ]
  },
  {
   "cell_type": "markdown",
   "id": "e0e198e9-f448-4206-86df-a8fb6a9f4919",
   "metadata": {},
   "source": [
    "We explored the levels for categorical variables. It can be seen that the levels of **block** and **street** variables have too many levels which hard to fit a linear model Therefore, **block** and **street** will be ignored."
   ]
  },
  {
   "cell_type": "code",
   "execution_count": 4,
   "id": "ba68ca19-a5ab-4bed-aa65-7ff570d24fba",
   "metadata": {},
   "outputs": [
    {
     "data": {
      "text/html": [
       "271721"
      ],
      "text/latex": [
       "271721"
      ],
      "text/markdown": [
       "271721"
      ],
      "text/plain": [
       "[1] 271721"
      ]
     },
     "metadata": {},
     "output_type": "display_data"
    }
   ],
   "source": [
    "# Final data set\n",
    "dat<- select(dat, house_id, date, location, type, area_sqm, storey_range, flat_model, commence_date, price)\n",
    "nrow(dat)"
   ]
  },
  {
   "cell_type": "markdown",
   "id": "2b7cd0f7-3c43-4bc2-8370-48a422ab6c6f",
   "metadata": {},
   "source": [
    "### Implementation of a proposed model"
   ]
  },
  {
   "cell_type": "code",
   "execution_count": null,
   "id": "772e8e36-6084-46f2-91c9-5b52b94fe5f5",
   "metadata": {},
   "outputs": [],
   "source": [
    "set.seed(2024)\n",
    "\n",
    "train <- dat %>% dplyr::sample_frac(0.60)\n",
    "test  <- dplyr::anti_join(dat, train, by = 'house_id')\n",
    "\n",
    "training_dat<- train\n",
    "testing_dat<- test\n",
    "nrow(train)\n",
    "nrow(test)\n",
    "\n"
   ]
  },
  {
   "cell_type": "code",
   "execution_count": null,
   "id": "bb03bca1-4c54-40ef-824f-4f11dd9dec6d",
   "metadata": {},
   "outputs": [],
   "source": [
    "# Full OLS\n",
    "full_OLS <- lm(price ~  date+location+type+area_sqm+storey_range+flat_model+commence_date, data = training_dat)\n",
    "\n",
    "# Predict using the Full OLS model on the test set\n",
    "testing_dat$.pred <- full_OLS %>%\n",
    "    predict(testing_dat)\n",
    "\n",
    "# calculate RMSE \n",
    "OLS_house_test <- testing_dat %>%\n",
    "    mutate(pred_error = price - .pred)\n",
    "\n",
    "OLS_house_rmse_aic <- sqrt(mean(OLS_house_test$pred_error^2)) %>%\n",
    "    round(2)\n",
    "OLS_house_rmse_aic"
   ]
  },
  {
   "cell_type": "code",
   "execution_count": null,
   "id": "25655d66-c007-43cf-9599-568fee7d8b46",
   "metadata": {},
   "outputs": [],
   "source": [
    "predict<- select(testing_dat, house_id, .pred) \n",
    "results <- data.frame(house_id = testing_dat$house_id, price = predict$.pred)\n",
    "write_csv(results, 'house_price_predictions.csv')"
   ]
  },
  {
   "cell_type": "code",
   "execution_count": null,
   "id": "d8ba3067-1746-4137-86fd-622b5b9bc833",
   "metadata": {},
   "outputs": [],
   "source": []
  },
  {
   "cell_type": "code",
   "execution_count": null,
   "id": "d404d785-a186-4c62-86b0-16502f8a9715",
   "metadata": {},
   "outputs": [],
   "source": []
  },
  {
   "cell_type": "code",
   "execution_count": null,
   "id": "b39aa0dd-0b0c-4972-a292-bcc63b1b9c94",
   "metadata": {},
   "outputs": [],
   "source": []
  },
  {
   "cell_type": "code",
   "execution_count": null,
   "id": "42a40976-e4c7-4a84-9e38-935e841455ee",
   "metadata": {},
   "outputs": [],
   "source": []
  },
  {
   "cell_type": "code",
   "execution_count": null,
   "id": "f227c809-8f57-4219-a2a3-269940358685",
   "metadata": {},
   "outputs": [],
   "source": []
  }
 ],
 "metadata": {
  "kernelspec": {
   "display_name": "R",
   "language": "R",
   "name": "ir"
  },
  "language_info": {
   "codemirror_mode": "r",
   "file_extension": ".r",
   "mimetype": "text/x-r-source",
   "name": "R",
   "pygments_lexer": "r",
   "version": "4.3.1"
  }
 },
 "nbformat": 4,
 "nbformat_minor": 5
}
